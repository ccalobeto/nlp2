{
 "cells": [
  {
   "cell_type": "markdown",
   "metadata": {},
   "source": [
    "# NLP in Action\n",
    "> My journey to learn NLP\n",
    "- toc: true\n",
    "- branch: master\n",
    "- badges: true\n",
    "- comments: true\n",
    "- categories: [fastpages, jupyter]"
   ]
  },
  {
   "cell_type": "markdown",
   "metadata": {},
   "source": [
    "## NLP Tools"
   ]
  },
  {
   "cell_type": "markdown",
   "metadata": {},
   "source": [
    "### Regular Expressions"
   ]
  },
  {
   "cell_type": "code",
   "execution_count": 6,
   "metadata": {},
   "outputs": [
    {
     "name": "stdout",
     "output_type": "stream",
     "text": [
      "\n"
     ]
    }
   ],
   "source": [
    "import re\n",
    "\n",
    "\"\"\"\n",
    "match any sentence that begins with hi|hello|hey followed by space(s) and a word \n",
    "\"\"\"\n",
    "r = \"(hi|hello|hey)[ ]*([a-z]*)\"\n",
    "re.match(r, 'Hello Rosa', flags=re.IGNORECASE)\n",
    "re.match(r, \"hi ho, hi ho, it's off to work ...\", flags=re.IGNORECASE)\n",
    "re.match(r, \"hey, what's up\", flags=re.IGNORECASE)\n",
    "\"\"\"\n",
    "Outputs:\n",
    "match= 'hello Rosa'\n",
    "match= 'hi ho'\n",
    "match= 'hey'\n",
    "\"\"\"\n",
    "print('')"
   ]
  },
  {
   "cell_type": "code",
   "execution_count": 8,
   "metadata": {},
   "outputs": [
    {
     "name": "stdout",
     "output_type": "stream",
     "text": [
      "\n"
     ]
    }
   ],
   "source": [
    "\"\"\"example with a complex pattern\"\"\"\n",
    "\n",
    "r = r\"[^a-z]*([y]o|[h']?ello|ok|hey|(good[ ])?(morn[gin']{0,3}|\"\\\n",
    "     r\"afternoon|even[gin']{0,3}))[\\s,;:]{1,3}([a-z]{1,20})\"\n",
    "re_greeting = re.compile(r, flags=re.IGNORECASE)\n",
    "\n",
    "re_greeting.match('Hello Rosa')\n",
    "re_greeting.match('Hello Rosa').groups()\n",
    "re_greeting.match(\"Good morning Rosa\")\n",
    "re_greeting.match(\"Good Manning Rosa\")\n",
    "re_greeting.match('Good evening Rosa Parks').groups()\n",
    "re_greeting.match(\"Good Morn'n Rosa\")\n",
    "re_greeting.match(\"yo Rosa\")\n",
    "\n",
    "\"\"\"\n",
    "Outputs:\n",
    "match='Hello Rosa'\n",
    "('Hello', None, None, 'Rosa')\n",
    "match='Good morning Rosa'\n",
    "null\n",
    "('Good evening', 'Good ', 'evening', 'Rosa')\n",
    "match=\"Good Morn'n Rosa\"\n",
    "match='yo Rosa'\n",
    "\"\"\"\n",
    "print('')"
   ]
  },
  {
   "cell_type": "markdown",
   "metadata": {},
   "source": [
    "### Simple Chat Bot"
   ]
  },
  {
   "cell_type": "code",
   "execution_count": 10,
   "metadata": {},
   "outputs": [
    {
     "name": "stdin",
     "output_type": "stream",
     "text": [
      " hello rose\n"
     ]
    },
    {
     "name": "stdout",
     "output_type": "stream",
     "text": [
      "Hi , How are you?\n"
     ]
    }
   ],
   "source": [
    "\"\"\"Enter the text 'good morning rosa or hello rose'\"\"\"\n",
    "\n",
    "my_names = set(['rosa', 'rose', 'chatty', 'chatbot', 'bot', 'chatterbot'])\n",
    "curt_names = set(['hal', 'you', 'u'])\n",
    "greeter_name = ''\n",
    "match = re_greeting.match(input())\n",
    "\n",
    "if match:\n",
    "    at_name = match.groups()[-1]\n",
    "    if at_name in curt_names:\n",
    "        print(\"Good one.\")\n",
    "\n",
    "    elif at_name.lower() in my_names:\n",
    "        print(\"Hi {}, How are you?\".format(greeter_name))"
   ]
  },
  {
   "cell_type": "markdown",
   "metadata": {},
   "source": [
    "### Word Permutations"
   ]
  },
  {
   "cell_type": "code",
   "execution_count": 12,
   "metadata": {},
   "outputs": [
    {
     "data": {
      "text/plain": [
       "['Good morning Rosa!',\n",
       " 'Good Rosa! morning',\n",
       " 'morning Good Rosa!',\n",
       " 'morning Rosa! Good',\n",
       " 'Rosa! Good morning',\n",
       " 'Rosa! morning Good']"
      ]
     },
     "execution_count": 12,
     "metadata": {},
     "output_type": "execute_result"
    }
   ],
   "source": [
    "# permutations\n",
    "from itertools import permutations\n",
    "[\" \".join(combo) for combo in permutations(\"Good morning Rosa!\".split(), 3)]\n",
    "\n",
    "\"\"\"\n",
    "Output\n",
    "['Good morning Rosa!',\n",
    " 'Good Rosa! morning',\n",
    " 'morning Good Rosa!',\n",
    " 'morning Rosa! Good',\n",
    " 'Rosa! Good morning',\n",
    " 'Rosa! morning Good']\n",
    "\"\"\"\n",
    "print('')"
   ]
  },
  {
   "cell_type": "markdown",
   "metadata": {},
   "source": [
    "### Count Words"
   ]
  },
  {
   "cell_type": "code",
   "execution_count": 14,
   "metadata": {},
   "outputs": [
    {
     "name": "stdout",
     "output_type": "stream",
     "text": [
      "\n"
     ]
    }
   ],
   "source": [
    "from collections import Counter\n",
    "Counter(\"Guten Morgen Rosa\".split())\n",
    "Counter(\"Good morning morning , Rosa!\".split())\n",
    "\"\"\"\n",
    "Outputs:\n",
    "Counter({'Guten': 1, 'Rosa': 1, 'morgen': 1})\n",
    "Counter({',':1, 'Good': 1, 'Rosa!': 1, 'morning,': 2})\n",
    "\"\"\"\n",
    "print('')"
   ]
  },
  {
   "cell_type": "markdown",
   "metadata": {},
   "source": [
    "## Tokenization"
   ]
  },
  {
   "cell_type": "code",
   "execution_count": null,
   "metadata": {},
   "outputs": [],
   "source": []
  },
  {
   "cell_type": "code",
   "execution_count": null,
   "metadata": {},
   "outputs": [],
   "source": []
  },
  {
   "cell_type": "code",
   "execution_count": null,
   "metadata": {},
   "outputs": [],
   "source": []
  }
 ],
 "metadata": {
  "kernelspec": {
   "display_name": "Python 3",
   "language": "python",
   "name": "python3"
  },
  "language_info": {
   "codemirror_mode": {
    "name": "ipython",
    "version": 3
   },
   "file_extension": ".py",
   "mimetype": "text/x-python",
   "name": "python",
   "nbconvert_exporter": "python",
   "pygments_lexer": "ipython3",
   "version": "3.8.5"
  }
 },
 "nbformat": 4,
 "nbformat_minor": 4
}
